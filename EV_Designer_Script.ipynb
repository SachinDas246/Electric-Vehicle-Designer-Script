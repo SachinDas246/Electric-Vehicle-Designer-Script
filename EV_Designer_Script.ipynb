{
  "nbformat": 4,
  "nbformat_minor": 0,
  "metadata": {
    "colab": {
      "name": "EV Designer Script",
      "provenance": [],
      "collapsed_sections": []
    },
    "kernelspec": {
      "name": "python3",
      "display_name": "Python 3"
    }
  },
  "cells": [
    {
      "cell_type": "markdown",
      "metadata": {
        "id": "tRr__MGjZjQA",
        "colab_type": "text"
      },
      "source": [
        "Ev Designer Script"
      ]
    },
    {
      "cell_type": "markdown",
      "metadata": {
        "id": "f-LHFCAjZt0E",
        "colab_type": "text"
      },
      "source": [
        "This is a python script that can be used for faster designing of electric vehicle especially in case of four wheelers.\n",
        "\n",
        "If you are having doubt about any parameters please check in the readme file :"
      ]
    },
    {
      "cell_type": "markdown",
      "metadata": {
        "id": "SkZUq4GSabeX",
        "colab_type": "text"
      },
      "source": [
        "Converter Functicons :(these are functions for easier conversion [no need of any updates in this block ])"
      ]
    },
    {
      "cell_type": "code",
      "metadata": {
        "id": "jiRTjcr9aX-0",
        "colab_type": "code",
        "colab": {}
      },
      "source": [
        "import math\n",
        "def Rpm_to_mpers(rpm,radius):\n",
        "  return rpm*radius*0.104719755\n",
        "\n",
        "def mpstokmh(mps):\n",
        "  return mps*3.6\n",
        "def kmhtomps(kmh):\n",
        "  return kmh/3.6\n"
      ],
      "execution_count": 24,
      "outputs": []
    },
    {
      "cell_type": "markdown",
      "metadata": {
        "id": "TO1UfqnOaQ5e",
        "colab_type": "text"
      },
      "source": [
        "Vehicle Datas"
      ]
    },
    {
      "cell_type": "markdown",
      "metadata": {
        "id": "69DLVxqXavd8",
        "colab_type": "text"
      },
      "source": [
        "Input the vehicle datas below  `in the mentioned units`"
      ]
    },
    {
      "cell_type": "code",
      "metadata": {
        "id": "OSVnwXZyZdzN",
        "colab_type": "code",
        "colab": {
          "base_uri": "https://localhost:8080/",
          "height": 143
        },
        "outputId": "223f0f71-37cb-424f-ccc7-03a557838c25"
      },
      "source": [
        "Acceleration =  3 #m/s^2\n",
        "Design_Speed=kmhtomps(150) #km/h\n",
        "Total_Mass_of_Vehicle = 1000 #Kg\n",
        "\n",
        "Radius_Of_Wheel=0.203 #Meter(radius not diameter)\n",
        "\n",
        "Coefficient_of_rolling_resistance= 0.1 #Cr\n",
        "\n",
        "Drag_Coefficient = 1.5 #Cd    \n",
        "Front_Area_of_Vehicle = 3 #m^2\n",
        "Air_Density = 1.2  #kg/m^3  \n",
        "\n",
        "Maximum_Climbing_Angle = 0 #Degree\n",
        "\n",
        "\n",
        "Force_of_Acceleration = Acceleration*Total_Mass_of_Vehicle\n",
        "print(\"Force_of_Acceleration = \"+str(Force_of_weight))\n",
        "\n",
        "Force_of_Rolling_Resistance = Coefficient_of_rolling_resistance * 9.80665 * Total_Mass_of_Vehicle\n",
        "print(\"Force_of_Rolling_Resistance = \"+str(Force_of_Rolling_Resistance))\n",
        "\n",
        "Force_of_Aerodynamic_Drag = Drag_Coefficient*Air_Density*Design_Speed*Design_Speed*Front_Area_of_Vehicle*0.5\n",
        "print(\"Force_of_Aerodynamic_Drag = \"+str(Force_of_Aerodynamic_Drag))\n",
        "\n",
        "Force_of_Climbing =  math.cos(math.radians(90 - Maximum_Climbing_Angle)) * 9.80665 * Total_Mass_of_Vehicle\n",
        "print(\"Force_of_Climbing = \"+str(Force_of_Climbing))\n",
        "\n",
        "Force=Force_of_Acceleration+Force_of_Rolling_Resistance+Force_of_Aerodynamic_Drag+Force_of_Climbing\n",
        "Torque=Force*Radius_Of_Wheel \n",
        "print()\n",
        "print(\"Total Force = \"+str(Force)+ \" Newton\")\n",
        "print(\"Torque = \"+str(Torque)+ \" Newton meter\")"
      ],
      "execution_count": 25,
      "outputs": [
        {
          "output_type": "stream",
          "text": [
            "Force_of_Acceleration = 27780.0\n",
            "Force_of_Rolling_Resistance = 980.665\n",
            "Force_of_Aerodynamic_Drag = 4687.499999999998\n",
            "Force_of_Climbing = 6.004841266429195e-13\n",
            "\n",
            "Total Force = 8668.164999999997 Newton\n",
            "Torque = 1759.6374949999995 Newton meter\n"
          ],
          "name": "stdout"
        }
      ]
    },
    {
      "cell_type": "markdown",
      "metadata": {
        "id": "iTFH_S5Hb1F1",
        "colab_type": "text"
      },
      "source": [
        "Motor Parameters"
      ]
    },
    {
      "cell_type": "markdown",
      "metadata": {
        "id": "GzBSavSxb-XU",
        "colab_type": "text"
      },
      "source": [
        "Details of the motor you choose. `Try tuning these parameters for selecting the motor`"
      ]
    },
    {
      "cell_type": "code",
      "metadata": {
        "id": "gGI-xvU4cIIl",
        "colab_type": "code",
        "colab": {
          "base_uri": "https://localhost:8080/",
          "height": 53
        },
        "outputId": "799682ec-70c6-4701-fda8-9bfac40f6996"
      },
      "source": [
        "Motor_Torque = 234.5565 #Newton Meter\n",
        "Motor_Rpm = 8000 #RPM\n",
        "Motor_KW  = 35  # KW\n",
        "Motor_Voltage = 125 #V\n",
        "\n",
        "Gear_Ratio = Torque/Motor_Torque\n",
        "Vehicle_Speed= Rpm_to_mpers(Motor_Rpm/Gear_Ratio,Radius_Of_Wheel)\n",
        "\n",
        "print(\"Gear Ratio = \"+str(Gear_Ratio))\n",
        "print(\"Vehicle Speed = \"+str(mpstokmh(Vehicle_Speed))+\" Km/h\")\n"
      ],
      "execution_count": 26,
      "outputs": [
        {
          "output_type": "stream",
          "text": [
            "Gear Ratio = 7.501977114256051\n",
            "Vehicle Speed = 81.60962987591216 Km/h\n"
          ],
          "name": "stdout"
        }
      ]
    },
    {
      "cell_type": "markdown",
      "metadata": {
        "id": "twh5tyXhc5Fi",
        "colab_type": "text"
      },
      "source": [
        "Conditions"
      ]
    },
    {
      "cell_type": "markdown",
      "metadata": {
        "id": "7py4bYbcc-Cn",
        "colab_type": "text"
      },
      "source": [
        "These are the conditions that the vehicle should obey to pass certain test."
      ]
    },
    {
      "cell_type": "code",
      "metadata": {
        "id": "puTQ-tzLdaF6",
        "colab_type": "code",
        "colab": {
          "base_uri": "https://localhost:8080/",
          "height": 71
        },
        "outputId": "c2490ee7-7350-4085-f509-dd7dc6c148cc"
      },
      "source": [
        "Distance=300000 #Meter\n",
        "Additional_time=0 #seconds\n",
        "\n",
        "if Vehicle_Speed>Design_Speed :\n",
        "  Vehicle_Speed=Design_Speed\n",
        "\n",
        "time_required = Distance/Vehicle_Speed\n",
        "total_time=time_required+Additional_time\n",
        "kWh=Motor_KW*(total_time/3600)\n",
        "\n",
        "print(\"Time Required = \"+str(time_required/3600)+\" hours\")\n",
        "print(\"Total time = \"+ str(total_time/3600)+\" hours\")\n",
        "print(\"kWh = \"+str(kWh)+\" kWh\")\n"
      ],
      "execution_count": 27,
      "outputs": [
        {
          "output_type": "stream",
          "text": [
            "Time Required = 3.6760367674274645 hours\n",
            "Total time = 3.6760367674274645 hours\n",
            "kWh = 128.66128685996125 kWh\n"
          ],
          "name": "stdout"
        }
      ]
    },
    {
      "cell_type": "markdown",
      "metadata": {
        "id": "rm4Ws5Dp48ro",
        "colab_type": "text"
      },
      "source": [
        "Battery Calculation"
      ]
    },
    {
      "cell_type": "code",
      "metadata": {
        "id": "PrThksop47qc",
        "colab_type": "code",
        "colab": {
          "base_uri": "https://localhost:8080/",
          "height": 71
        },
        "outputId": "56de2a16-d83f-44a5-c597-1fd74ab0ff02"
      },
      "source": [
        "Ah_of_Each_cell=3.5 #Ah\n",
        "Voltage_of_Each_Cell=3.7 #V\n",
        "Useable_Percentage= 0.5 #percent(here50)\n",
        "\n",
        "No_of_Cells_in_one_String = math.ceil(Motor_Voltage/Voltage_of_Each_Cell)\n",
        "\n",
        "no_of_Strings = math.ceil(( (kWh*1000)*(1/Useable_Percentage) )/(Motor_Voltage*Ah_of_Each_cell))\n",
        "\n",
        "total_No_of_Cells=no_of_Strings*No_of_Cells_in_one_String\n",
        "\n",
        "print(\"No of cells in each Strings = \"+str(No_of_Cells_in_one_String))\n",
        "print(\"No of Strings = \"+str(no_of_Strings))\n",
        "print(\"Total no of Cells =\"+str(total_No_of_Cells))\n"
      ],
      "execution_count": 28,
      "outputs": [
        {
          "output_type": "stream",
          "text": [
            "No of cells in each Strings = 34\n",
            "No of Strings = 589\n",
            "Total no of Cells =20026\n"
          ],
          "name": "stdout"
        }
      ]
    }
  ]
}